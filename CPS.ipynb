{
 "cells": [
  {
   "cell_type": "code",
   "execution_count": 1,
   "id": "f7832aa7-ac72-481d-8da3-43ca35dd5b19",
   "metadata": {},
   "outputs": [
    {
     "data": {
      "application/vnd.jupyter.widget-view+json": {
       "model_id": "e52174cabed44baeae0c42f5efdafaf0",
       "version_major": 2,
       "version_minor": 0
      },
      "text/plain": [
       "VBox(children=(Label(value='$\\\\textbf{•}$ $\\\\textbf{Dataset Selection}$'), VBox(children=(Label(value='Please,…"
      ]
     },
     "metadata": {},
     "output_type": "display_data"
    }
   ],
   "source": [
    "from src.Application import Application\n",
    "from src.GUI.GUIPlotController import *\n",
    "\n",
    "app_plot = Application()\n",
    "gui_plot = GUIPlotController(app_plot)\n",
    "gui_plot.display()"
   ]
  },
  {
   "cell_type": "code",
   "execution_count": 2,
   "id": "df40f044",
   "metadata": {},
   "outputs": [
    {
     "data": {
      "application/vnd.jupyter.widget-view+json": {
       "model_id": "eba691f5d43c42a4a272e2567aa5a4cd",
       "version_major": 2,
       "version_minor": 0
      },
      "text/plain": [
       "VBox(children=(Label(value='$\\\\textbf{•}$ $\\\\textbf{Current Selected Dataset}$: $\\\\texttt{GlobalLandTemperatur…"
      ]
     },
     "metadata": {},
     "output_type": "display_data"
    }
   ],
   "source": [
    "from src.Application import Application\n",
    "from src.GUI.GUIRegressionLineComparisonController import *\n",
    "\n",
    "app_comparison = Application(dataset_file_path=\"./data/GlobalLandTemperaturesByCountry.csv\")\n",
    "gui_comparison = GUIRegressionLineComparisonController(app_comparison)\n",
    "gui_comparison.display()"
   ]
  },
  {
   "cell_type": "code",
   "execution_count": null,
   "id": "9cd2ddaa",
   "metadata": {},
   "outputs": [],
   "source": []
  }
 ],
 "metadata": {
  "kernelspec": {
   "display_name": "Python 3",
   "language": "python",
   "name": "python3"
  },
  "language_info": {
   "codemirror_mode": {
    "name": "ipython",
    "version": 3
   },
   "file_extension": ".py",
   "mimetype": "text/x-python",
   "name": "python",
   "nbconvert_exporter": "python",
   "pygments_lexer": "ipython3",
   "version": "3.9.5"
  }
 },
 "nbformat": 4,
 "nbformat_minor": 5
}
